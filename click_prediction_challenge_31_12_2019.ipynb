{
 "cells": [
  {
   "cell_type": "code",
   "execution_count": 1,
   "metadata": {},
   "outputs": [],
   "source": [
    "import pandas as pd\n",
    "import numpy as np\n",
    "from matplotlib import pyplot as plt\n",
    "import seaborn as sns\n",
    "\n",
    "%matplotlib inline\n",
    "from sklearn.preprocessing import PolynomialFeatures\n",
    "from sklearn.linear_model import LogisticRegression, LogisticRegressionCV\n",
    "from sklearn.model_selection import cross_val_score, StratifiedKFold\n",
    "from sklearn.model_selection import GridSearchCV                  "
   ]
  },
  {
   "cell_type": "code",
   "execution_count": 2,
   "metadata": {},
   "outputs": [],
   "source": [
    "data = pd.read_csv('./Downloads/android_bids_us.csv')\n",
    "                   "
   ]
  },
  {
   "cell_type": "code",
   "execution_count": 3,
   "metadata": {
    "scrolled": true
   },
   "outputs": [
    {
     "name": "stdout",
     "output_type": "stream",
     "text": [
      "<class 'pandas.core.frame.DataFrame'>\n",
      "RangeIndex: 3148828 entries, 0 to 3148827\n",
      "Data columns (total 12 columns):\n",
      "bidid            object\n",
      "utc_time         int64\n",
      "app_id           object\n",
      "user_state       object\n",
      "user_isp         object\n",
      "device_maker     object\n",
      "device_model     object\n",
      "device_osv       object\n",
      "device_height    int64\n",
      "device_width     int64\n",
      "marketplace      object\n",
      "click            int64\n",
      "dtypes: int64(4), object(8)\n",
      "memory usage: 288.3+ MB\n"
     ]
    }
   ],
   "source": [
    "data.info()\n",
    "#3148828 rows × 12 columns"
   ]
  },
  {
   "cell_type": "code",
   "execution_count": 4,
   "metadata": {},
   "outputs": [
    {
     "data": {
      "text/plain": [
       "0    2935629\n",
       "1     213199\n",
       "Name: click, dtype: int64"
      ]
     },
     "execution_count": 4,
     "metadata": {},
     "output_type": "execute_result"
    }
   ],
   "source": [
    "data['click'].value_counts()\n"
   ]
  },
  {
   "cell_type": "code",
   "execution_count": 5,
   "metadata": {},
   "outputs": [
    {
     "data": {
      "text/plain": [
       "bidid                 0\n",
       "utc_time              0\n",
       "app_id                0\n",
       "user_state            0\n",
       "user_isp             39\n",
       "device_maker     964004\n",
       "device_model     963858\n",
       "device_osv            0\n",
       "device_height         0\n",
       "device_width          0\n",
       "marketplace           0\n",
       "click                 0\n",
       "dtype: int64"
      ]
     },
     "execution_count": 5,
     "metadata": {},
     "output_type": "execute_result"
    }
   ],
   "source": [
    "data.isnull().sum()\n",
    "#1. Looking for Missing Values\n",
    "#user_isp             39\n",
    "#device_maker     964004\n",
    "#device_model     963858"
   ]
  },
  {
   "cell_type": "code",
   "execution_count": 6,
   "metadata": {},
   "outputs": [],
   "source": [
    "data.drop(['device_maker', 'device_model', 'user_isp'], axis=1,  inplace=True )"
   ]
  },
  {
   "cell_type": "code",
   "execution_count": 7,
   "metadata": {},
   "outputs": [
    {
     "data": {
      "text/plain": [
       "bidid            2936921\n",
       "utc_time         3147513\n",
       "app_id             14869\n",
       "user_state            51\n",
       "device_osv            20\n",
       "device_height        308\n",
       "device_width         248\n",
       "marketplace            1\n",
       "click                  2\n",
       "dtype: int64"
      ]
     },
     "execution_count": 7,
     "metadata": {},
     "output_type": "execute_result"
    }
   ],
   "source": [
    "data.nunique()\n",
    "#2 features with a single unique value is the only one: 'marketplace   1'\n",
    "#utc_time  3147513 unique entries"
   ]
  },
  {
   "cell_type": "code",
   "execution_count": 8,
   "metadata": {},
   "outputs": [
    {
     "data": {
      "text/plain": [
       "Index(['utc_time', 'app_id', 'user_state', 'device_osv', 'device_height',\n",
       "       'device_width', 'click'],\n",
       "      dtype='object')"
      ]
     },
     "execution_count": 8,
     "metadata": {},
     "output_type": "execute_result"
    }
   ],
   "source": [
    "data.drop(columns = ['marketplace', 'bidid'], axis=1, inplace=True)\n",
    "data.columns"
   ]
  },
  {
   "cell_type": "code",
   "execution_count": 9,
   "metadata": {
    "scrolled": true
   },
   "outputs": [
    {
     "name": "stdout",
     "output_type": "stream",
     "text": [
      "<class 'pandas.core.frame.DataFrame'>\n",
      "RangeIndex: 3148828 entries, 0 to 3148827\n",
      "Data columns (total 7 columns):\n",
      "utc_time         int64\n",
      "app_id           object\n",
      "user_state       object\n",
      "device_osv       object\n",
      "device_height    int64\n",
      "device_width     int64\n",
      "click            int64\n",
      "dtypes: int64(4), object(3)\n",
      "memory usage: 168.2+ MB\n"
     ]
    }
   ],
   "source": [
    "data.info()"
   ]
  },
  {
   "cell_type": "code",
   "execution_count": 10,
   "metadata": {},
   "outputs": [
    {
     "data": {
      "text/html": [
       "<div>\n",
       "<style scoped>\n",
       "    .dataframe tbody tr th:only-of-type {\n",
       "        vertical-align: middle;\n",
       "    }\n",
       "\n",
       "    .dataframe tbody tr th {\n",
       "        vertical-align: top;\n",
       "    }\n",
       "\n",
       "    .dataframe thead th {\n",
       "        text-align: right;\n",
       "    }\n",
       "</style>\n",
       "<table border=\"1\" class=\"dataframe\">\n",
       "  <thead>\n",
       "    <tr style=\"text-align: right;\">\n",
       "      <th></th>\n",
       "      <th>utc_time</th>\n",
       "      <th>app_id</th>\n",
       "      <th>user_state</th>\n",
       "      <th>device_osv</th>\n",
       "      <th>device_height</th>\n",
       "      <th>device_width</th>\n",
       "      <th>click</th>\n",
       "    </tr>\n",
       "  </thead>\n",
       "  <tbody>\n",
       "    <tr>\n",
       "      <td>0</td>\n",
       "      <td>1536444331894</td>\n",
       "      <td>com.OppanaGames.CarSim</td>\n",
       "      <td>TX</td>\n",
       "      <td>7.0</td>\n",
       "      <td>720</td>\n",
       "      <td>1280</td>\n",
       "      <td>0</td>\n",
       "    </tr>\n",
       "  </tbody>\n",
       "</table>\n",
       "</div>"
      ],
      "text/plain": [
       "        utc_time                  app_id user_state device_osv  device_height  \\\n",
       "0  1536444331894  com.OppanaGames.CarSim         TX        7.0            720   \n",
       "\n",
       "   device_width  click  \n",
       "0          1280      0  "
      ]
     },
     "execution_count": 10,
     "metadata": {},
     "output_type": "execute_result"
    }
   ],
   "source": [
    "data.head(1)"
   ]
  },
  {
   "cell_type": "code",
   "execution_count": 11,
   "metadata": {
    "scrolled": true
   },
   "outputs": [
    {
     "data": {
      "image/png": "[encoded data removed]",
      "text/plain": [
       "<Figure size 432x288 with 2 Axes>"
      ]
     },
     "metadata": {
      "needs_background": "light"
     },
     "output_type": "display_data"
    }
   ],
   "source": [
    "#To plot all of the correlations in the data\n",
    "sns.heatmap(data.corr());\n",
    "\n",
    "#none features with a correlation magnitude "
   ]
  },
  {
   "cell_type": "code",
   "execution_count": 12,
   "metadata": {},
   "outputs": [
    {
     "data": {
      "text/plain": [
       "TX    409365\n",
       "CA    394602\n",
       "FL    263207\n",
       "IL    194379\n",
       "NY    180546\n",
       "GA    127141\n",
       "MI    120948\n",
       "NC    120590\n",
       "OH    102463\n",
       "PA     90165\n",
       "Name: user_state, dtype: int64"
      ]
     },
     "execution_count": 12,
     "metadata": {},
     "output_type": "execute_result"
    }
   ],
   "source": [
    "data['user_state'].value_counts().head(10)"
   ]
  },
  {
   "cell_type": "code",
   "execution_count": 13,
   "metadata": {
    "scrolled": true
   },
   "outputs": [
    {
     "data": {
      "image/png": "[encoded data removed]",
      "text/plain": [
       "<Figure size 432x288 with 1 Axes>"
      ]
     },
     "metadata": {
      "needs_background": "light"
     },
     "output_type": "display_data"
    }
   ],
   "source": [
    "sns.countplot(data[data['user_state'].isin(data['user_state'].value_counts().head(20).index)]['user_state']) ;\n",
    "#the most popular 20 states in the dataftame"
   ]
  },
  {
   "cell_type": "code",
   "execution_count": 14,
   "metadata": {
    "scrolled": false
   },
   "outputs": [
    {
     "data": {
      "image/png": "[encoded data removed]",
      "text/plain": [
       "<Figure size 432x288 with 1 Axes>"
      ]
     },
     "metadata": {
      "needs_background": "light"
     },
     "output_type": "display_data"
    }
   ],
   "source": [
    "sns.countplot(data[data['device_osv'].isin(data['device_osv'].value_counts().head(10).index)]['device_osv']);\n",
    "#the most popular os of users in the dataftame"
   ]
  },
  {
   "cell_type": "code",
   "execution_count": 15,
   "metadata": {
    "scrolled": true
   },
   "outputs": [
    {
     "data": {
      "text/plain": [
       "7.0      1083916\n",
       "8.0.0     596679\n",
       "7.1.1     557710\n",
       "6.0.1     535421\n",
       "7.1.2     201139\n",
       "8.1.0      88852\n",
       "6.0        64873\n",
       "9          20121\n",
       "7.1           59\n",
       "P             20\n",
       "Name: device_osv, dtype: int64"
      ]
     },
     "execution_count": 15,
     "metadata": {},
     "output_type": "execute_result"
    }
   ],
   "source": [
    "data['device_osv'].value_counts().head(10)"
   ]
  },
  {
   "cell_type": "code",
   "execution_count": 16,
   "metadata": {},
   "outputs": [],
   "source": [
    "data['Timestamp'] = pd.to_datetime(data['utc_time'], unit='ms')"
   ]
  },
  {
   "cell_type": "code",
   "execution_count": 17,
   "metadata": {},
   "outputs": [
    {
     "data": {
      "text/plain": [
       "3147513"
      ]
     },
     "execution_count": 17,
     "metadata": {},
     "output_type": "execute_result"
    }
   ],
   "source": [
    "data['Timestamp'].nunique()"
   ]
  },
  {
   "cell_type": "code",
   "execution_count": 18,
   "metadata": {},
   "outputs": [],
   "source": [
    "#Engineerin new features\n",
    "\n",
    "data['month_day'] = data['Timestamp'].dt.day\n",
    "data[\"week_day\"] = data['Timestamp'].dt.dayofweek\n",
    "data['day_hour'] = data['Timestamp'].dt.hour\n",
    "\n"
   ]
  },
  {
   "cell_type": "code",
   "execution_count": 19,
   "metadata": {},
   "outputs": [],
   "source": [
    "data.drop(['utc_time'], axis=1, inplace=True) \n"
   ]
  },
  {
   "cell_type": "code",
   "execution_count": 20,
   "metadata": {
    "scrolled": true
   },
   "outputs": [
    {
     "data": {
      "image/png": "[encoded data removed]",
      "text/plain": [
       "<Figure size 432x288 with 1 Axes>"
      ]
     },
     "metadata": {
      "needs_background": "light"
     },
     "output_type": "display_data"
    }
   ],
   "source": [
    "sns.countplot(data[data['day_hour'].isin(data['day_hour'].value_counts().head(24).index)]['day_hour']);\n",
    "#user activity by hours"
   ]
  },
  {
   "cell_type": "code",
   "execution_count": 21,
   "metadata": {},
   "outputs": [
    {
     "data": {
      "text/plain": [
       "23    215106\n",
       "2     206561\n",
       "22    199516\n",
       "19    196143\n",
       "21    195831\n",
       "20    194491\n",
       "Name: day_hour, dtype: int64"
      ]
     },
     "execution_count": 21,
     "metadata": {},
     "output_type": "execute_result"
    }
   ],
   "source": [
    "data['day_hour'].value_counts().head(6)"
   ]
  },
  {
   "cell_type": "code",
   "execution_count": 22,
   "metadata": {
    "scrolled": true
   },
   "outputs": [
    {
     "data": {
      "image/png": "[encoded data removed]",
      "text/plain": [
       "<Figure size 432x288 with 1 Axes>"
      ]
     },
     "metadata": {
      "needs_background": "light"
     },
     "output_type": "display_data"
    }
   ],
   "source": [
    "sns.countplot(data[data['week_day'].isin(data['week_day'].value_counts().head(7).index)]['week_day']);\n",
    "#user activity by days of week"
   ]
  },
  {
   "cell_type": "code",
   "execution_count": 23,
   "metadata": {},
   "outputs": [
    {
     "data": {
      "text/plain": [
       "5    549415\n",
       "6    494335\n",
       "3    485900\n",
       "2    428249\n",
       "0    427143\n",
       "1    426998\n",
       "4    336788\n",
       "Name: week_day, dtype: int64"
      ]
     },
     "execution_count": 23,
     "metadata": {},
     "output_type": "execute_result"
    }
   ],
   "source": [
    "data['week_day'].value_counts().head(7)"
   ]
  },
  {
   "cell_type": "code",
   "execution_count": 24,
   "metadata": {
    "scrolled": false
   },
   "outputs": [
    {
     "data": {
      "image/png": "[encoded data removed]",
      "text/plain": [
       "<Figure size 432x288 with 1 Axes>"
      ]
     },
     "metadata": {
      "needs_background": "light"
     },
     "output_type": "display_data"
    }
   ],
   "source": [
    "sns.countplot(data[data['month_day'].isin(data['month_day'].value_counts().head(31).index)]['month_day']);\n",
    "#user activity in the month period"
   ]
  },
  {
   "cell_type": "code",
   "execution_count": 25,
   "metadata": {},
   "outputs": [
    {
     "data": {
      "text/plain": [
       "3     148197\n",
       "17    133330\n",
       "2     130697\n",
       "27    129357\n",
       "14    125999\n",
       "4     125489\n",
       "1     124885\n",
       "29    123482\n",
       "13    122363\n",
       "16    119236\n",
       "Name: month_day, dtype: int64"
      ]
     },
     "execution_count": 25,
     "metadata": {},
     "output_type": "execute_result"
    }
   ],
   "source": [
    "data['month_day'].value_counts().head(10)"
   ]
  },
  {
   "cell_type": "code",
   "execution_count": 26,
   "metadata": {},
   "outputs": [
    {
     "data": {
      "text/plain": [
       "Index(['app_id', 'user_state', 'device_osv', 'device_height', 'device_width',\n",
       "       'click', 'Timestamp', 'month_day', 'week_day', 'day_hour'],\n",
       "      dtype='object')"
      ]
     },
     "execution_count": 26,
     "metadata": {},
     "output_type": "execute_result"
    }
   ],
   "source": [
    "data.columns"
   ]
  },
  {
   "cell_type": "code",
   "execution_count": 27,
   "metadata": {},
   "outputs": [],
   "source": [
    "#devices with albom and  book visualisation\n",
    "data['horizontal_dev'] = (data['device_height'] > data['device_width']).astype(int)"
   ]
  },
  {
   "cell_type": "code",
   "execution_count": 28,
   "metadata": {},
   "outputs": [
    {
     "data": {
      "text/html": [
       "<div>\n",
       "<style scoped>\n",
       "    .dataframe tbody tr th:only-of-type {\n",
       "        vertical-align: middle;\n",
       "    }\n",
       "\n",
       "    .dataframe tbody tr th {\n",
       "        vertical-align: top;\n",
       "    }\n",
       "\n",
       "    .dataframe thead th {\n",
       "        text-align: right;\n",
       "    }\n",
       "</style>\n",
       "<table border=\"1\" class=\"dataframe\">\n",
       "  <thead>\n",
       "    <tr style=\"text-align: right;\">\n",
       "      <th>horizontal_dev</th>\n",
       "      <th>0</th>\n",
       "      <th>1</th>\n",
       "    </tr>\n",
       "    <tr>\n",
       "      <th>click</th>\n",
       "      <th></th>\n",
       "      <th></th>\n",
       "    </tr>\n",
       "  </thead>\n",
       "  <tbody>\n",
       "    <tr>\n",
       "      <td>0</td>\n",
       "      <td>1475282</td>\n",
       "      <td>1460347</td>\n",
       "    </tr>\n",
       "    <tr>\n",
       "      <td>1</td>\n",
       "      <td>80189</td>\n",
       "      <td>133010</td>\n",
       "    </tr>\n",
       "  </tbody>\n",
       "</table>\n",
       "</div>"
      ],
      "text/plain": [
       "horizontal_dev        0        1\n",
       "click                           \n",
       "0               1475282  1460347\n",
       "1                 80189   133010"
      ]
     },
     "execution_count": 28,
     "metadata": {},
     "output_type": "execute_result"
    }
   ],
   "source": [
    "pd.crosstab(data.click, data.horizontal_dev)\n",
    "#dependecy on horizontal dev and click"
   ]
  },
  {
   "cell_type": "code",
   "execution_count": 29,
   "metadata": {},
   "outputs": [],
   "source": [
    "data.drop(['device_height', 'device_width'], axis=1, inplace=True) "
   ]
  },
  {
   "cell_type": "code",
   "execution_count": 30,
   "metadata": {},
   "outputs": [
    {
     "data": {
      "text/plain": [
       "Index(['app_id', 'user_state', 'device_osv', 'click', 'Timestamp', 'month_day',\n",
       "       'week_day', 'day_hour', 'horizontal_dev'],\n",
       "      dtype='object')"
      ]
     },
     "execution_count": 30,
     "metadata": {},
     "output_type": "execute_result"
    }
   ],
   "source": [
    "data.columns"
   ]
  },
  {
   "cell_type": "code",
   "execution_count": 31,
   "metadata": {},
   "outputs": [],
   "source": [
    "df = pd.read_csv('./Downloads/zipcode.csv')\n",
    "#https://data.world/bryon/us-zipcodes/workspace/file?filename=zipcode.csv"
   ]
  },
  {
   "cell_type": "code",
   "execution_count": 32,
   "metadata": {},
   "outputs": [
    {
     "data": {
      "text/html": [
       "<div>\n",
       "<style scoped>\n",
       "    .dataframe tbody tr th:only-of-type {\n",
       "        vertical-align: middle;\n",
       "    }\n",
       "\n",
       "    .dataframe tbody tr th {\n",
       "        vertical-align: top;\n",
       "    }\n",
       "\n",
       "    .dataframe thead th {\n",
       "        text-align: right;\n",
       "    }\n",
       "</style>\n",
       "<table border=\"1\" class=\"dataframe\">\n",
       "  <thead>\n",
       "    <tr style=\"text-align: right;\">\n",
       "      <th></th>\n",
       "      <th>zip</th>\n",
       "      <th>city</th>\n",
       "      <th>state</th>\n",
       "      <th>latitude</th>\n",
       "      <th>longitude</th>\n",
       "      <th>timezone</th>\n",
       "      <th>dst</th>\n",
       "    </tr>\n",
       "  </thead>\n",
       "  <tbody>\n",
       "    <tr>\n",
       "      <td>0</td>\n",
       "      <td>210</td>\n",
       "      <td>Portsmouth</td>\n",
       "      <td>NH</td>\n",
       "      <td>43.005895</td>\n",
       "      <td>-71.013202</td>\n",
       "      <td>-5</td>\n",
       "      <td>1</td>\n",
       "    </tr>\n",
       "    <tr>\n",
       "      <td>1</td>\n",
       "      <td>211</td>\n",
       "      <td>Portsmouth</td>\n",
       "      <td>NH</td>\n",
       "      <td>43.005895</td>\n",
       "      <td>-71.013202</td>\n",
       "      <td>-5</td>\n",
       "      <td>1</td>\n",
       "    </tr>\n",
       "    <tr>\n",
       "      <td>2</td>\n",
       "      <td>212</td>\n",
       "      <td>Portsmouth</td>\n",
       "      <td>NH</td>\n",
       "      <td>43.005895</td>\n",
       "      <td>-71.013202</td>\n",
       "      <td>-5</td>\n",
       "      <td>1</td>\n",
       "    </tr>\n",
       "    <tr>\n",
       "      <td>3</td>\n",
       "      <td>213</td>\n",
       "      <td>Portsmouth</td>\n",
       "      <td>NH</td>\n",
       "      <td>43.005895</td>\n",
       "      <td>-71.013202</td>\n",
       "      <td>-5</td>\n",
       "      <td>1</td>\n",
       "    </tr>\n",
       "    <tr>\n",
       "      <td>4</td>\n",
       "      <td>214</td>\n",
       "      <td>Portsmouth</td>\n",
       "      <td>NH</td>\n",
       "      <td>43.005895</td>\n",
       "      <td>-71.013202</td>\n",
       "      <td>-5</td>\n",
       "      <td>1</td>\n",
       "    </tr>\n",
       "  </tbody>\n",
       "</table>\n",
       "</div>"
      ],
      "text/plain": [
       "   zip        city state   latitude  longitude  timezone  dst\n",
       "0  210  Portsmouth    NH  43.005895 -71.013202        -5    1\n",
       "1  211  Portsmouth    NH  43.005895 -71.013202        -5    1\n",
       "2  212  Portsmouth    NH  43.005895 -71.013202        -5    1\n",
       "3  213  Portsmouth    NH  43.005895 -71.013202        -5    1\n",
       "4  214  Portsmouth    NH  43.005895 -71.013202        -5    1"
      ]
     },
     "execution_count": 32,
     "metadata": {},
     "output_type": "execute_result"
    }
   ],
   "source": [
    "df.head()"
   ]
  },
  {
   "cell_type": "code",
   "execution_count": 33,
   "metadata": {},
   "outputs": [],
   "source": [
    "tz_s = df[['state', 'timezone']].drop_duplicates()"
   ]
  },
  {
   "cell_type": "code",
   "execution_count": 34,
   "metadata": {},
   "outputs": [
    {
     "data": {
      "text/plain": [
       "(68, 2)"
      ]
     },
     "execution_count": 34,
     "metadata": {},
     "output_type": "execute_result"
    }
   ],
   "source": [
    "tz_s.shape\n",
    "#we have here 68 states because some of them are included in several timezones"
   ]
  },
  {
   "cell_type": "code",
   "execution_count": 35,
   "metadata": {},
   "outputs": [
    {
     "data": {
      "text/plain": [
       "array([ -5,  -4,  -6,  -7,  -8, -10,  -9], dtype=int64)"
      ]
     },
     "execution_count": 35,
     "metadata": {},
     "output_type": "execute_result"
    }
   ],
   "source": [
    "df['timezone'].unique()\n",
    "# we have 7 timezones in the USA [ -5,  -4,  -6,  -7,  -8, -10,  -9] hours"
   ]
  },
  {
   "cell_type": "code",
   "execution_count": 36,
   "metadata": {},
   "outputs": [],
   "source": [
    "data.rename(columns={'user_state': 'state'}, inplace=True)\n",
    "#changing the name to make easy merging "
   ]
  },
  {
   "cell_type": "code",
   "execution_count": 37,
   "metadata": {},
   "outputs": [
    {
     "data": {
      "text/plain": [
       "Index(['app_id', 'state', 'device_osv', 'click', 'Timestamp', 'month_day',\n",
       "       'week_day', 'day_hour', 'horizontal_dev'],\n",
       "      dtype='object')"
      ]
     },
     "execution_count": 37,
     "metadata": {},
     "output_type": "execute_result"
    }
   ],
   "source": [
    "data.columns"
   ]
  },
  {
   "cell_type": "code",
   "execution_count": 38,
   "metadata": {},
   "outputs": [
    {
     "data": {
      "text/html": [
       "<div>\n",
       "<style scoped>\n",
       "    .dataframe tbody tr th:only-of-type {\n",
       "        vertical-align: middle;\n",
       "    }\n",
       "\n",
       "    .dataframe tbody tr th {\n",
       "        vertical-align: top;\n",
       "    }\n",
       "\n",
       "    .dataframe thead th {\n",
       "        text-align: right;\n",
       "    }\n",
       "</style>\n",
       "<table border=\"1\" class=\"dataframe\">\n",
       "  <thead>\n",
       "    <tr style=\"text-align: right;\">\n",
       "      <th></th>\n",
       "      <th>app_id</th>\n",
       "      <th>state</th>\n",
       "      <th>device_osv</th>\n",
       "      <th>click</th>\n",
       "      <th>Timestamp</th>\n",
       "      <th>month_day</th>\n",
       "      <th>week_day</th>\n",
       "      <th>day_hour</th>\n",
       "      <th>horizontal_dev</th>\n",
       "      <th>timezone</th>\n",
       "    </tr>\n",
       "  </thead>\n",
       "  <tbody>\n",
       "    <tr>\n",
       "      <td>0</td>\n",
       "      <td>com.OppanaGames.CarSim</td>\n",
       "      <td>TX</td>\n",
       "      <td>7.0</td>\n",
       "      <td>0</td>\n",
       "      <td>2018-09-08 22:05:31.894</td>\n",
       "      <td>8</td>\n",
       "      <td>5</td>\n",
       "      <td>22</td>\n",
       "      <td>0</td>\n",
       "      <td>-6</td>\n",
       "    </tr>\n",
       "    <tr>\n",
       "      <td>1</td>\n",
       "      <td>com.OppanaGames.CarSim</td>\n",
       "      <td>TX</td>\n",
       "      <td>7.0</td>\n",
       "      <td>0</td>\n",
       "      <td>2018-09-08 22:05:31.894</td>\n",
       "      <td>8</td>\n",
       "      <td>5</td>\n",
       "      <td>22</td>\n",
       "      <td>0</td>\n",
       "      <td>-7</td>\n",
       "    </tr>\n",
       "    <tr>\n",
       "      <td>2</td>\n",
       "      <td>com.mobilityware.CrownSolitaire</td>\n",
       "      <td>TX</td>\n",
       "      <td>7.0</td>\n",
       "      <td>0</td>\n",
       "      <td>2018-09-08 22:06:03.932</td>\n",
       "      <td>8</td>\n",
       "      <td>5</td>\n",
       "      <td>22</td>\n",
       "      <td>1</td>\n",
       "      <td>-6</td>\n",
       "    </tr>\n",
       "    <tr>\n",
       "      <td>3</td>\n",
       "      <td>com.mobilityware.CrownSolitaire</td>\n",
       "      <td>TX</td>\n",
       "      <td>7.0</td>\n",
       "      <td>0</td>\n",
       "      <td>2018-09-08 22:06:03.932</td>\n",
       "      <td>8</td>\n",
       "      <td>5</td>\n",
       "      <td>22</td>\n",
       "      <td>1</td>\n",
       "      <td>-7</td>\n",
       "    </tr>\n",
       "    <tr>\n",
       "      <td>4</td>\n",
       "      <td>com.kuttigames.tenkyurollball</td>\n",
       "      <td>LA</td>\n",
       "      <td>7.1.1</td>\n",
       "      <td>0</td>\n",
       "      <td>2018-09-08 22:06:26.908</td>\n",
       "      <td>8</td>\n",
       "      <td>5</td>\n",
       "      <td>22</td>\n",
       "      <td>0</td>\n",
       "      <td>-6</td>\n",
       "    </tr>\n",
       "    <tr>\n",
       "      <td>...</td>\n",
       "      <td>...</td>\n",
       "      <td>...</td>\n",
       "      <td>...</td>\n",
       "      <td>...</td>\n",
       "      <td>...</td>\n",
       "      <td>...</td>\n",
       "      <td>...</td>\n",
       "      <td>...</td>\n",
       "      <td>...</td>\n",
       "      <td>...</td>\n",
       "    </tr>\n",
       "    <tr>\n",
       "      <td>4563342</td>\n",
       "      <td>com.slots.realvegas</td>\n",
       "      <td>GA</td>\n",
       "      <td>8.1.0</td>\n",
       "      <td>0</td>\n",
       "      <td>2018-11-06 02:48:05.093</td>\n",
       "      <td>6</td>\n",
       "      <td>1</td>\n",
       "      <td>2</td>\n",
       "      <td>1</td>\n",
       "      <td>-5</td>\n",
       "    </tr>\n",
       "    <tr>\n",
       "      <td>4563343</td>\n",
       "      <td>br.com.tapps.penguinevolution</td>\n",
       "      <td>MO</td>\n",
       "      <td>7.1.2</td>\n",
       "      <td>0</td>\n",
       "      <td>2018-11-06 02:48:36.760</td>\n",
       "      <td>6</td>\n",
       "      <td>1</td>\n",
       "      <td>2</td>\n",
       "      <td>1</td>\n",
       "      <td>-6</td>\n",
       "    </tr>\n",
       "    <tr>\n",
       "      <td>4563344</td>\n",
       "      <td>air.com.FDGEntertainment.Lonewolf.gp</td>\n",
       "      <td>WI</td>\n",
       "      <td>7.0</td>\n",
       "      <td>0</td>\n",
       "      <td>2018-11-06 02:49:12.347</td>\n",
       "      <td>6</td>\n",
       "      <td>1</td>\n",
       "      <td>2</td>\n",
       "      <td>0</td>\n",
       "      <td>-6</td>\n",
       "    </tr>\n",
       "    <tr>\n",
       "      <td>4563345</td>\n",
       "      <td>com.shoot.strike.gun.fire.d</td>\n",
       "      <td>CA</td>\n",
       "      <td>7.0</td>\n",
       "      <td>0</td>\n",
       "      <td>2018-11-06 02:49:13.004</td>\n",
       "      <td>6</td>\n",
       "      <td>1</td>\n",
       "      <td>2</td>\n",
       "      <td>0</td>\n",
       "      <td>-8</td>\n",
       "    </tr>\n",
       "    <tr>\n",
       "      <td>4563346</td>\n",
       "      <td>com.shoot.strike.gun.fire.d</td>\n",
       "      <td>CA</td>\n",
       "      <td>7.0</td>\n",
       "      <td>0</td>\n",
       "      <td>2018-11-06 02:49:13.004</td>\n",
       "      <td>6</td>\n",
       "      <td>1</td>\n",
       "      <td>2</td>\n",
       "      <td>0</td>\n",
       "      <td>-7</td>\n",
       "    </tr>\n",
       "  </tbody>\n",
       "</table>\n",
       "<p>4563347 rows × 10 columns</p>\n",
       "</div>"
      ],
      "text/plain": [
       "                                       app_id state device_osv  click  \\\n",
       "0                      com.OppanaGames.CarSim    TX        7.0      0   \n",
       "1                      com.OppanaGames.CarSim    TX        7.0      0   \n",
       "2             com.mobilityware.CrownSolitaire    TX        7.0      0   \n",
       "3             com.mobilityware.CrownSolitaire    TX        7.0      0   \n",
       "4               com.kuttigames.tenkyurollball    LA      7.1.1      0   \n",
       "...                                       ...   ...        ...    ...   \n",
       "4563342                   com.slots.realvegas    GA      8.1.0      0   \n",
       "4563343         br.com.tapps.penguinevolution    MO      7.1.2      0   \n",
       "4563344  air.com.FDGEntertainment.Lonewolf.gp    WI        7.0      0   \n",
       "4563345           com.shoot.strike.gun.fire.d    CA        7.0      0   \n",
       "4563346           com.shoot.strike.gun.fire.d    CA        7.0      0   \n",
       "\n",
       "                      Timestamp  month_day  week_day  day_hour  \\\n",
       "0       2018-09-08 22:05:31.894          8         5        22   \n",
       "1       2018-09-08 22:05:31.894          8         5        22   \n",
       "2       2018-09-08 22:06:03.932          8         5        22   \n",
       "3       2018-09-08 22:06:03.932          8         5        22   \n",
       "4       2018-09-08 22:06:26.908          8         5        22   \n",
       "...                         ...        ...       ...       ...   \n",
       "4563342 2018-11-06 02:48:05.093          6         1         2   \n",
       "4563343 2018-11-06 02:48:36.760          6         1         2   \n",
       "4563344 2018-11-06 02:49:12.347          6         1         2   \n",
       "4563345 2018-11-06 02:49:13.004          6         1         2   \n",
       "4563346 2018-11-06 02:49:13.004          6         1         2   \n",
       "\n",
       "         horizontal_dev  timezone  \n",
       "0                     0        -6  \n",
       "1                     0        -7  \n",
       "2                     1        -6  \n",
       "3                     1        -7  \n",
       "4                     0        -6  \n",
       "...                 ...       ...  \n",
       "4563342               1        -5  \n",
       "4563343               1        -6  \n",
       "4563344               0        -6  \n",
       "4563345               0        -8  \n",
       "4563346               0        -7  \n",
       "\n",
       "[4563347 rows x 10 columns]"
      ]
     },
     "execution_count": 38,
     "metadata": {},
     "output_type": "execute_result"
    }
   ],
   "source": [
    "pd.merge(data, tz_s, how='left')"
   ]
  },
  {
   "cell_type": "code",
   "execution_count": null,
   "metadata": {
    "scrolled": true
   },
   "outputs": [],
   "source": []
  },
  {
   "cell_type": "code",
   "execution_count": 39,
   "metadata": {},
   "outputs": [],
   "source": [
    "common = pd.merge(data, tz_s, how='left')\n",
    "#size is different"
   ]
  },
  {
   "cell_type": "code",
   "execution_count": 40,
   "metadata": {},
   "outputs": [
    {
     "data": {
      "text/plain": [
       "app_id            0\n",
       "state             0\n",
       "device_osv        0\n",
       "click             0\n",
       "Timestamp         0\n",
       "month_day         0\n",
       "week_day          0\n",
       "day_hour          0\n",
       "horizontal_dev    0\n",
       "timezone          0\n",
       "dtype: int64"
      ]
     },
     "execution_count": 40,
     "metadata": {},
     "output_type": "execute_result"
    }
   ],
   "source": [
    "common.isnull().sum()\n",
    "#no nulls"
   ]
  },
  {
   "cell_type": "code",
   "execution_count": 41,
   "metadata": {},
   "outputs": [
    {
     "data": {
      "text/plain": [
       "51"
      ]
     },
     "execution_count": 41,
     "metadata": {},
     "output_type": "execute_result"
    }
   ],
   "source": [
    "common['state'].nunique()"
   ]
  },
  {
   "cell_type": "code",
   "execution_count": 42,
   "metadata": {},
   "outputs": [
    {
     "data": {
      "text/plain": [
       "3147513"
      ]
     },
     "execution_count": 42,
     "metadata": {},
     "output_type": "execute_result"
    }
   ],
   "source": [
    "common['Timestamp'].nunique()"
   ]
  },
  {
   "cell_type": "code",
   "execution_count": 43,
   "metadata": {},
   "outputs": [
    {
     "data": {
      "text/plain": [
       "20"
      ]
     },
     "execution_count": 43,
     "metadata": {},
     "output_type": "execute_result"
    }
   ],
   "source": [
    "common['device_osv'].nunique()"
   ]
  },
  {
   "cell_type": "code",
   "execution_count": 44,
   "metadata": {},
   "outputs": [],
   "source": [
    "#creating codes for 20 'device_osv'\n",
    "common['device_osv_codes'] = common['device_osv'].astype('category').cat.codes"
   ]
  },
  {
   "cell_type": "code",
   "execution_count": 45,
   "metadata": {},
   "outputs": [],
   "source": [
    "#creating codes for 51 'state'\n",
    "common['state_codes'] = common['state'].astype('category').cat.codes"
   ]
  },
  {
   "cell_type": "code",
   "execution_count": 46,
   "metadata": {},
   "outputs": [],
   "source": [
    "common.drop_duplicates(subset=['Timestamp'], inplace=True)"
   ]
  },
  {
   "cell_type": "code",
   "execution_count": 47,
   "metadata": {
    "scrolled": true
   },
   "outputs": [
    {
     "name": "stdout",
     "output_type": "stream",
     "text": [
      "<class 'pandas.core.frame.DataFrame'>\n",
      "Int64Index: 3147513 entries, 0 to 4563345\n",
      "Data columns (total 12 columns):\n",
      "app_id              object\n",
      "state               object\n",
      "device_osv          object\n",
      "click               int64\n",
      "Timestamp           datetime64[ns]\n",
      "month_day           int64\n",
      "week_day            int64\n",
      "day_hour            int64\n",
      "horizontal_dev      int32\n",
      "timezone            int64\n",
      "device_osv_codes    int8\n",
      "state_codes         int8\n",
      "dtypes: datetime64[ns](1), int32(1), int64(5), int8(2), object(3)\n",
      "memory usage: 258.1+ MB\n"
     ]
    }
   ],
   "source": [
    "common.info()"
   ]
  },
  {
   "cell_type": "code",
   "execution_count": 48,
   "metadata": {
    "scrolled": true
   },
   "outputs": [
    {
     "data": {
      "image/png": "[encoded data removed]",
      "text/plain": [
       "<Figure size 432x288 with 2 Axes>"
      ]
     },
     "metadata": {
      "needs_background": "light"
     },
     "output_type": "display_data"
    }
   ],
   "source": [
    "#To plot all of the correlations in the data\n",
    "sns.heatmap(common.corr());"
   ]
  },
  {
   "cell_type": "code",
   "execution_count": 49,
   "metadata": {},
   "outputs": [
    {
     "data": {
      "text/html": [
       "<div>\n",
       "<style scoped>\n",
       "    .dataframe tbody tr th:only-of-type {\n",
       "        vertical-align: middle;\n",
       "    }\n",
       "\n",
       "    .dataframe tbody tr th {\n",
       "        vertical-align: top;\n",
       "    }\n",
       "\n",
       "    .dataframe thead th {\n",
       "        text-align: right;\n",
       "    }\n",
       "</style>\n",
       "<table border=\"1\" class=\"dataframe\">\n",
       "  <thead>\n",
       "    <tr style=\"text-align: right;\">\n",
       "      <th></th>\n",
       "      <th>click</th>\n",
       "      <th>month_day</th>\n",
       "      <th>week_day</th>\n",
       "      <th>day_hour</th>\n",
       "      <th>horizontal_dev</th>\n",
       "      <th>timezone</th>\n",
       "      <th>device_osv_codes</th>\n",
       "      <th>state_codes</th>\n",
       "    </tr>\n",
       "  </thead>\n",
       "  <tbody>\n",
       "    <tr>\n",
       "      <td>click</td>\n",
       "      <td>1.000000</td>\n",
       "      <td>-0.004736</td>\n",
       "      <td>0.003188</td>\n",
       "      <td>0.006243</td>\n",
       "      <td>0.063521</td>\n",
       "      <td>-0.001068</td>\n",
       "      <td>-0.018360</td>\n",
       "      <td>-0.003269</td>\n",
       "    </tr>\n",
       "    <tr>\n",
       "      <td>month_day</td>\n",
       "      <td>-0.004736</td>\n",
       "      <td>1.000000</td>\n",
       "      <td>0.136269</td>\n",
       "      <td>-0.022812</td>\n",
       "      <td>0.020754</td>\n",
       "      <td>-0.001595</td>\n",
       "      <td>-0.012859</td>\n",
       "      <td>-0.001655</td>\n",
       "    </tr>\n",
       "    <tr>\n",
       "      <td>week_day</td>\n",
       "      <td>0.003188</td>\n",
       "      <td>0.136269</td>\n",
       "      <td>1.000000</td>\n",
       "      <td>-0.008040</td>\n",
       "      <td>-0.042991</td>\n",
       "      <td>-0.002735</td>\n",
       "      <td>-0.015477</td>\n",
       "      <td>0.000909</td>\n",
       "    </tr>\n",
       "    <tr>\n",
       "      <td>day_hour</td>\n",
       "      <td>0.006243</td>\n",
       "      <td>-0.022812</td>\n",
       "      <td>-0.008040</td>\n",
       "      <td>1.000000</td>\n",
       "      <td>-0.048788</td>\n",
       "      <td>0.110346</td>\n",
       "      <td>-0.002976</td>\n",
       "      <td>0.021614</td>\n",
       "    </tr>\n",
       "    <tr>\n",
       "      <td>horizontal_dev</td>\n",
       "      <td>0.063521</td>\n",
       "      <td>0.020754</td>\n",
       "      <td>-0.042991</td>\n",
       "      <td>-0.048788</td>\n",
       "      <td>1.000000</td>\n",
       "      <td>0.016783</td>\n",
       "      <td>0.048918</td>\n",
       "      <td>0.014588</td>\n",
       "    </tr>\n",
       "    <tr>\n",
       "      <td>timezone</td>\n",
       "      <td>-0.001068</td>\n",
       "      <td>-0.001595</td>\n",
       "      <td>-0.002735</td>\n",
       "      <td>0.110346</td>\n",
       "      <td>0.016783</td>\n",
       "      <td>1.000000</td>\n",
       "      <td>-0.011753</td>\n",
       "      <td>0.260768</td>\n",
       "    </tr>\n",
       "    <tr>\n",
       "      <td>device_osv_codes</td>\n",
       "      <td>-0.018360</td>\n",
       "      <td>-0.012859</td>\n",
       "      <td>-0.015477</td>\n",
       "      <td>-0.002976</td>\n",
       "      <td>0.048918</td>\n",
       "      <td>-0.011753</td>\n",
       "      <td>1.000000</td>\n",
       "      <td>0.000936</td>\n",
       "    </tr>\n",
       "    <tr>\n",
       "      <td>state_codes</td>\n",
       "      <td>-0.003269</td>\n",
       "      <td>-0.001655</td>\n",
       "      <td>0.000909</td>\n",
       "      <td>0.021614</td>\n",
       "      <td>0.014588</td>\n",
       "      <td>0.260768</td>\n",
       "      <td>0.000936</td>\n",
       "      <td>1.000000</td>\n",
       "    </tr>\n",
       "  </tbody>\n",
       "</table>\n",
       "</div>"
      ],
      "text/plain": [
       "                     click  month_day  week_day  day_hour  horizontal_dev  \\\n",
       "click             1.000000  -0.004736  0.003188  0.006243        0.063521   \n",
       "month_day        -0.004736   1.000000  0.136269 -0.022812        0.020754   \n",
       "week_day          0.003188   0.136269  1.000000 -0.008040       -0.042991   \n",
       "day_hour          0.006243  -0.022812 -0.008040  1.000000       -0.048788   \n",
       "horizontal_dev    0.063521   0.020754 -0.042991 -0.048788        1.000000   \n",
       "timezone         -0.001068  -0.001595 -0.002735  0.110346        0.016783   \n",
       "device_osv_codes -0.018360  -0.012859 -0.015477 -0.002976        0.048918   \n",
       "state_codes      -0.003269  -0.001655  0.000909  0.021614        0.014588   \n",
       "\n",
       "                  timezone  device_osv_codes  state_codes  \n",
       "click            -0.001068         -0.018360    -0.003269  \n",
       "month_day        -0.001595         -0.012859    -0.001655  \n",
       "week_day         -0.002735         -0.015477     0.000909  \n",
       "day_hour          0.110346         -0.002976     0.021614  \n",
       "horizontal_dev    0.016783          0.048918     0.014588  \n",
       "timezone          1.000000         -0.011753     0.260768  \n",
       "device_osv_codes -0.011753          1.000000     0.000936  \n",
       "state_codes       0.260768          0.000936     1.000000  "
      ]
     },
     "execution_count": 49,
     "metadata": {},
     "output_type": "execute_result"
    }
   ],
   "source": [
    "common.corr()"
   ]
  },
  {
   "cell_type": "code",
   "execution_count": 50,
   "metadata": {},
   "outputs": [
    {
     "data": {
      "text/html": [
       "<div>\n",
       "<style scoped>\n",
       "    .dataframe tbody tr th:only-of-type {\n",
       "        vertical-align: middle;\n",
       "    }\n",
       "\n",
       "    .dataframe tbody tr th {\n",
       "        vertical-align: top;\n",
       "    }\n",
       "\n",
       "    .dataframe thead th {\n",
       "        text-align: right;\n",
       "    }\n",
       "</style>\n",
       "<table border=\"1\" class=\"dataframe\">\n",
       "  <thead>\n",
       "    <tr style=\"text-align: right;\">\n",
       "      <th></th>\n",
       "      <th>state</th>\n",
       "      <th>horizontal_dev</th>\n",
       "    </tr>\n",
       "    <tr>\n",
       "      <th>click</th>\n",
       "      <th></th>\n",
       "      <th></th>\n",
       "    </tr>\n",
       "  </thead>\n",
       "  <tbody>\n",
       "    <tr>\n",
       "      <td>0</td>\n",
       "      <td>2934411</td>\n",
       "      <td>2934411</td>\n",
       "    </tr>\n",
       "    <tr>\n",
       "      <td>1</td>\n",
       "      <td>213102</td>\n",
       "      <td>213102</td>\n",
       "    </tr>\n",
       "  </tbody>\n",
       "</table>\n",
       "</div>"
      ],
      "text/plain": [
       "         state  horizontal_dev\n",
       "click                         \n",
       "0      2934411         2934411\n",
       "1       213102          213102"
      ]
     },
     "execution_count": 50,
     "metadata": {},
     "output_type": "execute_result"
    }
   ],
   "source": [
    "common.groupby( 'click')['state','horizontal_dev'].count()"
   ]
  },
  {
   "cell_type": "code",
   "execution_count": 51,
   "metadata": {},
   "outputs": [
    {
     "data": {
      "image/png": "[encoded data removed]",
      "text/plain": [
       "<Figure size 432x288 with 1 Axes>"
      ]
     },
     "metadata": {
      "needs_background": "light"
     },
     "output_type": "display_data"
    }
   ],
   "source": [
    "sns.boxplot(x='day_hour', y='device_osv', data=common);"
   ]
  },
  {
   "cell_type": "code",
   "execution_count": 52,
   "metadata": {},
   "outputs": [
    {
     "data": {
      "image/png": "[encoded data removed]",
      "text/plain": [
       "<Figure size 432x288 with 1 Axes>"
      ]
     },
     "metadata": {
      "needs_background": "light"
     },
     "output_type": "display_data"
    }
   ],
   "source": [
    "sns.countplot(x='week_day', hue='click', data=common);"
   ]
  },
  {
   "cell_type": "code",
   "execution_count": 53,
   "metadata": {
    "scrolled": true
   },
   "outputs": [
    {
     "data": {
      "text/html": [
       "<div>\n",
       "<style scoped>\n",
       "    .dataframe tbody tr th:only-of-type {\n",
       "        vertical-align: middle;\n",
       "    }\n",
       "\n",
       "    .dataframe tbody tr th {\n",
       "        vertical-align: top;\n",
       "    }\n",
       "\n",
       "    .dataframe thead th {\n",
       "        text-align: right;\n",
       "    }\n",
       "</style>\n",
       "<table border=\"1\" class=\"dataframe\">\n",
       "  <thead>\n",
       "    <tr style=\"text-align: right;\">\n",
       "      <th></th>\n",
       "      <th>app_id</th>\n",
       "      <th>state</th>\n",
       "      <th>device_osv</th>\n",
       "      <th>click</th>\n",
       "      <th>Timestamp</th>\n",
       "      <th>month_day</th>\n",
       "      <th>week_day</th>\n",
       "      <th>day_hour</th>\n",
       "      <th>horizontal_dev</th>\n",
       "      <th>timezone</th>\n",
       "      <th>device_osv_codes</th>\n",
       "      <th>state_codes</th>\n",
       "    </tr>\n",
       "  </thead>\n",
       "  <tbody>\n",
       "    <tr>\n",
       "      <td>0</td>\n",
       "      <td>com.OppanaGames.CarSim</td>\n",
       "      <td>TX</td>\n",
       "      <td>7.0</td>\n",
       "      <td>0</td>\n",
       "      <td>2018-09-08 22:05:31.894</td>\n",
       "      <td>8</td>\n",
       "      <td>5</td>\n",
       "      <td>22</td>\n",
       "      <td>0</td>\n",
       "      <td>-6</td>\n",
       "      <td>5</td>\n",
       "      <td>43</td>\n",
       "    </tr>\n",
       "    <tr>\n",
       "      <td>2</td>\n",
       "      <td>com.mobilityware.CrownSolitaire</td>\n",
       "      <td>TX</td>\n",
       "      <td>7.0</td>\n",
       "      <td>0</td>\n",
       "      <td>2018-09-08 22:06:03.932</td>\n",
       "      <td>8</td>\n",
       "      <td>5</td>\n",
       "      <td>22</td>\n",
       "      <td>1</td>\n",
       "      <td>-6</td>\n",
       "      <td>5</td>\n",
       "      <td>43</td>\n",
       "    </tr>\n",
       "    <tr>\n",
       "      <td>4</td>\n",
       "      <td>com.kuttigames.tenkyurollball</td>\n",
       "      <td>LA</td>\n",
       "      <td>7.1.1</td>\n",
       "      <td>0</td>\n",
       "      <td>2018-09-08 22:06:26.908</td>\n",
       "      <td>8</td>\n",
       "      <td>5</td>\n",
       "      <td>22</td>\n",
       "      <td>0</td>\n",
       "      <td>-6</td>\n",
       "      <td>8</td>\n",
       "      <td>18</td>\n",
       "    </tr>\n",
       "    <tr>\n",
       "      <td>5</td>\n",
       "      <td>com.trendactionfree.call_of_sniper_duty_frontl...</td>\n",
       "      <td>TN</td>\n",
       "      <td>6.0.1</td>\n",
       "      <td>0</td>\n",
       "      <td>2018-09-08 22:06:45.023</td>\n",
       "      <td>8</td>\n",
       "      <td>5</td>\n",
       "      <td>22</td>\n",
       "      <td>0</td>\n",
       "      <td>-5</td>\n",
       "      <td>3</td>\n",
       "      <td>42</td>\n",
       "    </tr>\n",
       "    <tr>\n",
       "      <td>7</td>\n",
       "      <td>com.landslab.my3rdgrademathgames</td>\n",
       "      <td>NC</td>\n",
       "      <td>7.1.1</td>\n",
       "      <td>0</td>\n",
       "      <td>2018-09-08 22:07:23.458</td>\n",
       "      <td>8</td>\n",
       "      <td>5</td>\n",
       "      <td>22</td>\n",
       "      <td>1</td>\n",
       "      <td>-5</td>\n",
       "      <td>8</td>\n",
       "      <td>27</td>\n",
       "    </tr>\n",
       "    <tr>\n",
       "      <td>...</td>\n",
       "      <td>...</td>\n",
       "      <td>...</td>\n",
       "      <td>...</td>\n",
       "      <td>...</td>\n",
       "      <td>...</td>\n",
       "      <td>...</td>\n",
       "      <td>...</td>\n",
       "      <td>...</td>\n",
       "      <td>...</td>\n",
       "      <td>...</td>\n",
       "      <td>...</td>\n",
       "      <td>...</td>\n",
       "    </tr>\n",
       "    <tr>\n",
       "      <td>4563340</td>\n",
       "      <td>com.altitude.rrsv</td>\n",
       "      <td>TX</td>\n",
       "      <td>7.0</td>\n",
       "      <td>0</td>\n",
       "      <td>2018-11-06 02:47:38.853</td>\n",
       "      <td>6</td>\n",
       "      <td>1</td>\n",
       "      <td>2</td>\n",
       "      <td>0</td>\n",
       "      <td>-6</td>\n",
       "      <td>5</td>\n",
       "      <td>43</td>\n",
       "    </tr>\n",
       "    <tr>\n",
       "      <td>4563342</td>\n",
       "      <td>com.slots.realvegas</td>\n",
       "      <td>GA</td>\n",
       "      <td>8.1.0</td>\n",
       "      <td>0</td>\n",
       "      <td>2018-11-06 02:48:05.093</td>\n",
       "      <td>6</td>\n",
       "      <td>1</td>\n",
       "      <td>2</td>\n",
       "      <td>1</td>\n",
       "      <td>-5</td>\n",
       "      <td>13</td>\n",
       "      <td>10</td>\n",
       "    </tr>\n",
       "    <tr>\n",
       "      <td>4563343</td>\n",
       "      <td>br.com.tapps.penguinevolution</td>\n",
       "      <td>MO</td>\n",
       "      <td>7.1.2</td>\n",
       "      <td>0</td>\n",
       "      <td>2018-11-06 02:48:36.760</td>\n",
       "      <td>6</td>\n",
       "      <td>1</td>\n",
       "      <td>2</td>\n",
       "      <td>1</td>\n",
       "      <td>-6</td>\n",
       "      <td>9</td>\n",
       "      <td>24</td>\n",
       "    </tr>\n",
       "    <tr>\n",
       "      <td>4563344</td>\n",
       "      <td>air.com.FDGEntertainment.Lonewolf.gp</td>\n",
       "      <td>WI</td>\n",
       "      <td>7.0</td>\n",
       "      <td>0</td>\n",
       "      <td>2018-11-06 02:49:12.347</td>\n",
       "      <td>6</td>\n",
       "      <td>1</td>\n",
       "      <td>2</td>\n",
       "      <td>0</td>\n",
       "      <td>-6</td>\n",
       "      <td>5</td>\n",
       "      <td>48</td>\n",
       "    </tr>\n",
       "    <tr>\n",
       "      <td>4563345</td>\n",
       "      <td>com.shoot.strike.gun.fire.d</td>\n",
       "      <td>CA</td>\n",
       "      <td>7.0</td>\n",
       "      <td>0</td>\n",
       "      <td>2018-11-06 02:49:13.004</td>\n",
       "      <td>6</td>\n",
       "      <td>1</td>\n",
       "      <td>2</td>\n",
       "      <td>0</td>\n",
       "      <td>-8</td>\n",
       "      <td>5</td>\n",
       "      <td>4</td>\n",
       "    </tr>\n",
       "  </tbody>\n",
       "</table>\n",
       "<p>3147513 rows × 12 columns</p>\n",
       "</div>"
      ],
      "text/plain": [
       "                                                    app_id state device_osv  \\\n",
       "0                                   com.OppanaGames.CarSim    TX        7.0   \n",
       "2                          com.mobilityware.CrownSolitaire    TX        7.0   \n",
       "4                            com.kuttigames.tenkyurollball    LA      7.1.1   \n",
       "5        com.trendactionfree.call_of_sniper_duty_frontl...    TN      6.0.1   \n",
       "7                         com.landslab.my3rdgrademathgames    NC      7.1.1   \n",
       "...                                                    ...   ...        ...   \n",
       "4563340                                  com.altitude.rrsv    TX        7.0   \n",
       "4563342                                com.slots.realvegas    GA      8.1.0   \n",
       "4563343                      br.com.tapps.penguinevolution    MO      7.1.2   \n",
       "4563344               air.com.FDGEntertainment.Lonewolf.gp    WI        7.0   \n",
       "4563345                        com.shoot.strike.gun.fire.d    CA        7.0   \n",
       "\n",
       "         click               Timestamp  month_day  week_day  day_hour  \\\n",
       "0            0 2018-09-08 22:05:31.894          8         5        22   \n",
       "2            0 2018-09-08 22:06:03.932          8         5        22   \n",
       "4            0 2018-09-08 22:06:26.908          8         5        22   \n",
       "5            0 2018-09-08 22:06:45.023          8         5        22   \n",
       "7            0 2018-09-08 22:07:23.458          8         5        22   \n",
       "...        ...                     ...        ...       ...       ...   \n",
       "4563340      0 2018-11-06 02:47:38.853          6         1         2   \n",
       "4563342      0 2018-11-06 02:48:05.093          6         1         2   \n",
       "4563343      0 2018-11-06 02:48:36.760          6         1         2   \n",
       "4563344      0 2018-11-06 02:49:12.347          6         1         2   \n",
       "4563345      0 2018-11-06 02:49:13.004          6         1         2   \n",
       "\n",
       "         horizontal_dev  timezone  device_osv_codes  state_codes  \n",
       "0                     0        -6                 5           43  \n",
       "2                     1        -6                 5           43  \n",
       "4                     0        -6                 8           18  \n",
       "5                     0        -5                 3           42  \n",
       "7                     1        -5                 8           27  \n",
       "...                 ...       ...               ...          ...  \n",
       "4563340               0        -6                 5           43  \n",
       "4563342               1        -5                13           10  \n",
       "4563343               1        -6                 9           24  \n",
       "4563344               0        -6                 5           48  \n",
       "4563345               0        -8                 5            4  \n",
       "\n",
       "[3147513 rows x 12 columns]"
      ]
     },
     "execution_count": 53,
     "metadata": {},
     "output_type": "execute_result"
    }
   ],
   "source": [
    "common"
   ]
  },
  {
   "cell_type": "code",
   "execution_count": 54,
   "metadata": {},
   "outputs": [],
   "source": [
    "#creating codes for app_id\n",
    "common['app_id_codes'] = common['app_id'].astype('category').cat.codes"
   ]
  },
  {
   "cell_type": "code",
   "execution_count": null,
   "metadata": {},
   "outputs": [],
   "source": []
  },
  {
   "cell_type": "markdown",
   "metadata": {},
   "source": [
    "<h1>       predictions    </h>"
   ]
  },
  {
   "cell_type": "code",
   "execution_count": 55,
   "metadata": {},
   "outputs": [
    {
     "data": {
      "text/html": [
       "<div>\n",
       "<style scoped>\n",
       "    .dataframe tbody tr th:only-of-type {\n",
       "        vertical-align: middle;\n",
       "    }\n",
       "\n",
       "    .dataframe tbody tr th {\n",
       "        vertical-align: top;\n",
       "    }\n",
       "\n",
       "    .dataframe thead th {\n",
       "        text-align: right;\n",
       "    }\n",
       "</style>\n",
       "<table border=\"1\" class=\"dataframe\">\n",
       "  <thead>\n",
       "    <tr style=\"text-align: right;\">\n",
       "      <th></th>\n",
       "      <th>state_codes</th>\n",
       "      <th>device_osv_codes</th>\n",
       "      <th>horizontal_dev</th>\n",
       "      <th>day_hour</th>\n",
       "      <th>week_day</th>\n",
       "      <th>month_day</th>\n",
       "      <th>click</th>\n",
       "      <th>app_id_codes</th>\n",
       "    </tr>\n",
       "  </thead>\n",
       "  <tbody>\n",
       "    <tr>\n",
       "      <td>0</td>\n",
       "      <td>43</td>\n",
       "      <td>5</td>\n",
       "      <td>0</td>\n",
       "      <td>22</td>\n",
       "      <td>5</td>\n",
       "      <td>8</td>\n",
       "      <td>0</td>\n",
       "      <td>1276</td>\n",
       "    </tr>\n",
       "    <tr>\n",
       "      <td>2</td>\n",
       "      <td>43</td>\n",
       "      <td>5</td>\n",
       "      <td>1</td>\n",
       "      <td>22</td>\n",
       "      <td>5</td>\n",
       "      <td>8</td>\n",
       "      <td>0</td>\n",
       "      <td>8502</td>\n",
       "    </tr>\n",
       "    <tr>\n",
       "      <td>4</td>\n",
       "      <td>18</td>\n",
       "      <td>8</td>\n",
       "      <td>0</td>\n",
       "      <td>22</td>\n",
       "      <td>5</td>\n",
       "      <td>8</td>\n",
       "      <td>0</td>\n",
       "      <td>7607</td>\n",
       "    </tr>\n",
       "    <tr>\n",
       "      <td>5</td>\n",
       "      <td>42</td>\n",
       "      <td>3</td>\n",
       "      <td>0</td>\n",
       "      <td>22</td>\n",
       "      <td>5</td>\n",
       "      <td>8</td>\n",
       "      <td>0</td>\n",
       "      <td>12597</td>\n",
       "    </tr>\n",
       "    <tr>\n",
       "      <td>7</td>\n",
       "      <td>27</td>\n",
       "      <td>8</td>\n",
       "      <td>1</td>\n",
       "      <td>22</td>\n",
       "      <td>5</td>\n",
       "      <td>8</td>\n",
       "      <td>0</td>\n",
       "      <td>7636</td>\n",
       "    </tr>\n",
       "    <tr>\n",
       "      <td>8</td>\n",
       "      <td>9</td>\n",
       "      <td>5</td>\n",
       "      <td>0</td>\n",
       "      <td>22</td>\n",
       "      <td>5</td>\n",
       "      <td>8</td>\n",
       "      <td>0</td>\n",
       "      <td>7359</td>\n",
       "    </tr>\n",
       "    <tr>\n",
       "      <td>10</td>\n",
       "      <td>9</td>\n",
       "      <td>8</td>\n",
       "      <td>0</td>\n",
       "      <td>22</td>\n",
       "      <td>5</td>\n",
       "      <td>8</td>\n",
       "      <td>0</td>\n",
       "      <td>11012</td>\n",
       "    </tr>\n",
       "    <tr>\n",
       "      <td>12</td>\n",
       "      <td>10</td>\n",
       "      <td>11</td>\n",
       "      <td>1</td>\n",
       "      <td>22</td>\n",
       "      <td>5</td>\n",
       "      <td>8</td>\n",
       "      <td>0</td>\n",
       "      <td>259</td>\n",
       "    </tr>\n",
       "    <tr>\n",
       "      <td>13</td>\n",
       "      <td>21</td>\n",
       "      <td>11</td>\n",
       "      <td>0</td>\n",
       "      <td>22</td>\n",
       "      <td>5</td>\n",
       "      <td>8</td>\n",
       "      <td>0</td>\n",
       "      <td>4532</td>\n",
       "    </tr>\n",
       "    <tr>\n",
       "      <td>14</td>\n",
       "      <td>44</td>\n",
       "      <td>5</td>\n",
       "      <td>0</td>\n",
       "      <td>22</td>\n",
       "      <td>5</td>\n",
       "      <td>8</td>\n",
       "      <td>0</td>\n",
       "      <td>4553</td>\n",
       "    </tr>\n",
       "  </tbody>\n",
       "</table>\n",
       "</div>"
      ],
      "text/plain": [
       "    state_codes  device_osv_codes  horizontal_dev  day_hour  week_day  \\\n",
       "0            43                 5               0        22         5   \n",
       "2            43                 5               1        22         5   \n",
       "4            18                 8               0        22         5   \n",
       "5            42                 3               0        22         5   \n",
       "7            27                 8               1        22         5   \n",
       "8             9                 5               0        22         5   \n",
       "10            9                 8               0        22         5   \n",
       "12           10                11               1        22         5   \n",
       "13           21                11               0        22         5   \n",
       "14           44                 5               0        22         5   \n",
       "\n",
       "    month_day  click  app_id_codes  \n",
       "0           8      0          1276  \n",
       "2           8      0          8502  \n",
       "4           8      0          7607  \n",
       "5           8      0         12597  \n",
       "7           8      0          7636  \n",
       "8           8      0          7359  \n",
       "10          8      0         11012  \n",
       "12          8      0           259  \n",
       "13          8      0          4532  \n",
       "14          8      0          4553  "
      ]
     },
     "execution_count": 55,
     "metadata": {},
     "output_type": "execute_result"
    }
   ],
   "source": [
    "#Taking the numerical data\n",
    "df100 = common[['state_codes', 'device_osv_codes', 'horizontal_dev', 'day_hour', 'week_day', 'month_day','click', 'app_id_codes']]\n",
    "df100.head(10)"
   ]
  },
  {
   "cell_type": "code",
   "execution_count": 56,
   "metadata": {},
   "outputs": [
    {
     "data": {
      "text/plain": [
       "(3147513, 7)"
      ]
     },
     "execution_count": 56,
     "metadata": {},
     "output_type": "execute_result"
    }
   ],
   "source": [
    "X = np.asarray(df100[['state_codes', 'device_osv_codes', 'horizontal_dev', 'day_hour', 'week_day', 'month_day', 'app_id_codes']])\n",
    "X.shape\n"
   ]
  },
  {
   "cell_type": "code",
   "execution_count": 57,
   "metadata": {
    "scrolled": true
   },
   "outputs": [
    {
     "data": {
      "text/plain": [
       "(3147513,)"
      ]
     },
     "execution_count": 57,
     "metadata": {},
     "output_type": "execute_result"
    }
   ],
   "source": [
    "y = np.asarray(df100['click'])\n",
    "y.shape"
   ]
  },
  {
   "cell_type": "code",
   "execution_count": 58,
   "metadata": {},
   "outputs": [
    {
     "data": {
      "text/plain": [
       "array([[ 1.2994239 , -0.589815  , -1.01211624,  1.22237575,  0.93155657,\n",
       "        -0.79354176, -1.35058554],\n",
       "       [ 1.2994239 , -0.589815  ,  0.98802881,  1.22237575,  0.93155657,\n",
       "        -0.79354176,  0.30959773],\n",
       "       [-0.36050315,  0.39027595, -1.01211624,  1.22237575,  0.93155657,\n",
       "        -0.79354176,  0.10397027],\n",
       "       [ 1.23302682, -1.24320897, -1.01211624,  1.22237575,  0.93155657,\n",
       "        -0.79354176,  1.25042951],\n",
       "       [ 0.23707059,  0.39027595,  0.98802881,  1.22237575,  0.93155657,\n",
       "        -0.79354176,  0.11063306]])"
      ]
     },
     "execution_count": 58,
     "metadata": {},
     "output_type": "execute_result"
    }
   ],
   "source": [
    "from sklearn import preprocessing\n",
    "X = preprocessing.StandardScaler().fit(X).transform(X)\n",
    "X[0:5]\n",
    "#normalize dataset"
   ]
  },
  {
   "cell_type": "code",
   "execution_count": 59,
   "metadata": {},
   "outputs": [
    {
     "name": "stdout",
     "output_type": "stream",
     "text": [
      "Train set: (2203259, 7) (2203259,)\n",
      "Test set: (944254, 7) (944254,)\n"
     ]
    }
   ],
   "source": [
    "from sklearn.model_selection import train_test_split\n",
    "X_train, X_test, y_train, y_test = train_test_split( X, y, test_size=0.3, random_state=4)\n",
    "print ('Train set:', X_train.shape,  y_train.shape)\n",
    "print ('Test set:', X_test.shape,  y_test.shape)\n",
    "#spliting the data"
   ]
  },
  {
   "cell_type": "code",
   "execution_count": 60,
   "metadata": {},
   "outputs": [
    {
     "data": {
      "text/plain": [
       "LogisticRegression(C=0.01, class_weight=None, dual=False, fit_intercept=True,\n",
       "                   intercept_scaling=1, l1_ratio=None, max_iter=100,\n",
       "                   multi_class='warn', n_jobs=None, penalty='l2',\n",
       "                   random_state=None, solver='liblinear', tol=0.0001, verbose=0,\n",
       "                   warm_start=False)"
      ]
     },
     "execution_count": 60,
     "metadata": {},
     "output_type": "execute_result"
    }
   ],
   "source": [
    "from sklearn.linear_model import LogisticRegression\n",
    "from sklearn.metrics import confusion_matrix, accuracy_score\n",
    "LR = LogisticRegression(C=0.01, solver='liblinear').fit(X_train,y_train)\n",
    "LR"
   ]
  },
  {
   "cell_type": "code",
   "execution_count": 61,
   "metadata": {},
   "outputs": [
    {
     "data": {
      "text/plain": [
       "array([0, 0, 0, ..., 0, 0, 0], dtype=int64)"
      ]
     },
     "execution_count": 61,
     "metadata": {},
     "output_type": "execute_result"
    }
   ],
   "source": [
    "yhat = LR.predict(X_test)\n",
    "yhat"
   ]
  },
  {
   "cell_type": "code",
   "execution_count": 62,
   "metadata": {},
   "outputs": [
    {
     "data": {
      "text/plain": [
       "array([[0.94121986, 0.05878014],\n",
       "       [0.9492443 , 0.0507557 ],\n",
       "       [0.91552179, 0.08447821],\n",
       "       ...,\n",
       "       [0.942906  , 0.057094  ],\n",
       "       [0.91159728, 0.08840272],\n",
       "       [0.90789634, 0.09210366]])"
      ]
     },
     "execution_count": 62,
     "metadata": {},
     "output_type": "execute_result"
    }
   ],
   "source": [
    "yhat_prob = LR.predict_proba(X_test)\n",
    "yhat_prob"
   ]
  },
  {
   "cell_type": "code",
   "execution_count": 63,
   "metadata": {},
   "outputs": [
    {
     "name": "stdout",
     "output_type": "stream",
     "text": [
      "Test Accuracy 0.932451437854645\n"
     ]
    }
   ],
   "source": [
    "## Test accuracy\n",
    "acc = accuracy_score(y_test, yhat)\n",
    "print('Test Accuracy {}'.format(acc))             "
   ]
  },
  {
   "cell_type": "code",
   "execution_count": 64,
   "metadata": {},
   "outputs": [],
   "source": [
    "#feature importance"
   ]
  },
  {
   "cell_type": "code",
   "execution_count": 65,
   "metadata": {},
   "outputs": [],
   "source": [
    "from feature_selector import FeatureSelector"
   ]
  },
  {
   "cell_type": "code",
   "execution_count": 67,
   "metadata": {},
   "outputs": [],
   "source": [
    "lables_df= df100['click']"
   ]
  },
  {
   "cell_type": "code",
   "execution_count": 68,
   "metadata": {},
   "outputs": [],
   "source": [
    "fs = FeatureSelector(data = df100, labels = lables_df)"
   ]
  },
  {
   "cell_type": "code",
   "execution_count": 69,
   "metadata": {
    "scrolled": true
   },
   "outputs": [
    {
     "name": "stdout",
     "output_type": "stream",
     "text": [
      "Training Gradient Boosting Model\n",
      "\n",
      "Training until validation scores don't improve for 100 rounds\n",
      "Early stopping, best iteration is:\n",
      "[1]\tvalid_0's auc: 1\tvalid_0's binary_logloss: 0.199191\n",
      "Training until validation scores don't improve for 100 rounds\n",
      "Early stopping, best iteration is:\n",
      "[1]\tvalid_0's auc: 1\tvalid_0's binary_logloss: 0.199191\n",
      "Training until validation scores don't improve for 100 rounds\n",
      "Early stopping, best iteration is:\n",
      "[1]\tvalid_0's auc: 1\tvalid_0's binary_logloss: 0.199191\n",
      "Training until validation scores don't improve for 100 rounds\n",
      "Early stopping, best iteration is:\n",
      "[1]\tvalid_0's auc: 1\tvalid_0's binary_logloss: 0.199191\n",
      "Training until validation scores don't improve for 100 rounds\n",
      "Early stopping, best iteration is:\n",
      "[1]\tvalid_0's auc: 1\tvalid_0's binary_logloss: 0.199191\n",
      "Training until validation scores don't improve for 100 rounds\n",
      "Early stopping, best iteration is:\n",
      "[1]\tvalid_0's auc: 1\tvalid_0's binary_logloss: 0.199191\n",
      "Training until validation scores don't improve for 100 rounds\n",
      "Early stopping, best iteration is:\n",
      "[1]\tvalid_0's auc: 1\tvalid_0's binary_logloss: 0.199191\n",
      "Training until validation scores don't improve for 100 rounds\n",
      "Early stopping, best iteration is:\n",
      "[1]\tvalid_0's auc: 1\tvalid_0's binary_logloss: 0.199191\n",
      "Training until validation scores don't improve for 100 rounds\n",
      "Early stopping, best iteration is:\n",
      "[1]\tvalid_0's auc: 1\tvalid_0's binary_logloss: 0.199191\n",
      "Training until validation scores don't improve for 100 rounds\n",
      "Early stopping, best iteration is:\n",
      "[1]\tvalid_0's auc: 1\tvalid_0's binary_logloss: 0.199191\n",
      "\n",
      "1 features with zero importance after one-hot encoding.\n",
      "\n"
     ]
    }
   ],
   "source": [
    "fs.identify_zero_importance(task = 'classification', eval_metric = 'auc', \n",
    "                            n_iterations = 10, early_stopping = True)"
   ]
  },
  {
   "cell_type": "code",
   "execution_count": 70,
   "metadata": {
    "scrolled": true
   },
   "outputs": [
    {
     "data": {
      "image/png": "[encoded data removed]",
      "text/plain": [
       "<Figure size 1000x600 with 1 Axes>"
      ]
     },
     "metadata": {},
     "output_type": "display_data"
    },
    {
     "data": {
      "image/png": "[encoded data removed]",
      "text/plain": [
       "<Figure size 600x400 with 1 Axes>"
      ]
     },
     "metadata": {},
     "output_type": "display_data"
    },
    {
     "name": "stdout",
     "output_type": "stream",
     "text": [
      "7 features required for 0.99 of cumulative importance\n"
     ]
    }
   ],
   "source": [
    "fs.plot_feature_importances(threshold = 0.99, plot_n = 8)"
   ]
  },
  {
   "cell_type": "code",
   "execution_count": 71,
   "metadata": {},
   "outputs": [
    {
     "data": {
      "text/html": [
       "<div>\n",
       "<style scoped>\n",
       "    .dataframe tbody tr th:only-of-type {\n",
       "        vertical-align: middle;\n",
       "    }\n",
       "\n",
       "    .dataframe tbody tr th {\n",
       "        vertical-align: top;\n",
       "    }\n",
       "\n",
       "    .dataframe thead th {\n",
       "        text-align: right;\n",
       "    }\n",
       "</style>\n",
       "<table border=\"1\" class=\"dataframe\">\n",
       "  <thead>\n",
       "    <tr style=\"text-align: right;\">\n",
       "      <th></th>\n",
       "      <th>feature</th>\n",
       "      <th>importance</th>\n",
       "      <th>normalized_importance</th>\n",
       "      <th>cumulative_importance</th>\n",
       "    </tr>\n",
       "  </thead>\n",
       "  <tbody>\n",
       "    <tr>\n",
       "      <td>0</td>\n",
       "      <td>state_codes</td>\n",
       "      <td>1.7</td>\n",
       "      <td>0.377778</td>\n",
       "      <td>0.377778</td>\n",
       "    </tr>\n",
       "    <tr>\n",
       "      <td>1</td>\n",
       "      <td>click</td>\n",
       "      <td>1.0</td>\n",
       "      <td>0.222222</td>\n",
       "      <td>0.600000</td>\n",
       "    </tr>\n",
       "    <tr>\n",
       "      <td>2</td>\n",
       "      <td>app_id_codes</td>\n",
       "      <td>0.6</td>\n",
       "      <td>0.133333</td>\n",
       "      <td>0.733333</td>\n",
       "    </tr>\n",
       "    <tr>\n",
       "      <td>3</td>\n",
       "      <td>month_day</td>\n",
       "      <td>0.5</td>\n",
       "      <td>0.111111</td>\n",
       "      <td>0.844444</td>\n",
       "    </tr>\n",
       "    <tr>\n",
       "      <td>4</td>\n",
       "      <td>device_osv_codes</td>\n",
       "      <td>0.3</td>\n",
       "      <td>0.066667</td>\n",
       "      <td>0.911111</td>\n",
       "    </tr>\n",
       "    <tr>\n",
       "      <td>5</td>\n",
       "      <td>day_hour</td>\n",
       "      <td>0.2</td>\n",
       "      <td>0.044444</td>\n",
       "      <td>0.955556</td>\n",
       "    </tr>\n",
       "    <tr>\n",
       "      <td>6</td>\n",
       "      <td>week_day</td>\n",
       "      <td>0.2</td>\n",
       "      <td>0.044444</td>\n",
       "      <td>1.000000</td>\n",
       "    </tr>\n",
       "    <tr>\n",
       "      <td>7</td>\n",
       "      <td>horizontal_dev</td>\n",
       "      <td>0.0</td>\n",
       "      <td>0.000000</td>\n",
       "      <td>1.000000</td>\n",
       "    </tr>\n",
       "  </tbody>\n",
       "</table>\n",
       "</div>"
      ],
      "text/plain": [
       "            feature  importance  normalized_importance  cumulative_importance\n",
       "0       state_codes         1.7               0.377778               0.377778\n",
       "1             click         1.0               0.222222               0.600000\n",
       "2      app_id_codes         0.6               0.133333               0.733333\n",
       "3         month_day         0.5               0.111111               0.844444\n",
       "4  device_osv_codes         0.3               0.066667               0.911111\n",
       "5          day_hour         0.2               0.044444               0.955556\n",
       "6          week_day         0.2               0.044444               1.000000\n",
       "7    horizontal_dev         0.0               0.000000               1.000000"
      ]
     },
     "execution_count": 71,
     "metadata": {},
     "output_type": "execute_result"
    }
   ],
   "source": [
    "fs.feature_importances.head(8)"
   ]
  },
  {
   "cell_type": "code",
   "execution_count": 72,
   "metadata": {},
   "outputs": [],
   "source": [
    "#Trees"
   ]
  },
  {
   "cell_type": "code",
   "execution_count": 73,
   "metadata": {},
   "outputs": [],
   "source": [
    "from sklearn.tree import DecisionTreeClassifier"
   ]
  },
  {
   "cell_type": "code",
   "execution_count": 74,
   "metadata": {},
   "outputs": [
    {
     "data": {
      "text/plain": [
       "(3147513, 7)"
      ]
     },
     "execution_count": 74,
     "metadata": {},
     "output_type": "execute_result"
    }
   ],
   "source": [
    "X3 = df100[['state_codes', 'device_osv_codes', 'horizontal_dev', 'day_hour', 'week_day', 'month_day', 'app_id_codes']].values\n",
    "X3.shape\n",
    "#"
   ]
  },
  {
   "cell_type": "code",
   "execution_count": 75,
   "metadata": {},
   "outputs": [],
   "source": [
    "X3_trainset, X3_testset, y3_trainset, y3_testset = train_test_split(X3, y, test_size=0.3, random_state=3)"
   ]
  },
  {
   "cell_type": "code",
   "execution_count": 76,
   "metadata": {
    "scrolled": true
   },
   "outputs": [
    {
     "data": {
      "text/plain": [
       "DecisionTreeClassifier(class_weight=None, criterion='entropy', max_depth=4,\n",
       "                       max_features=None, max_leaf_nodes=None,\n",
       "                       min_impurity_decrease=0.0, min_impurity_split=None,\n",
       "                       min_samples_leaf=1, min_samples_split=2,\n",
       "                       min_weight_fraction_leaf=0.0, presort=False,\n",
       "                       random_state=None, splitter='best')"
      ]
     },
     "execution_count": 76,
     "metadata": {},
     "output_type": "execute_result"
    }
   ],
   "source": [
    "click_Tree = DecisionTreeClassifier(criterion=\"entropy\", max_depth = 4)\n",
    "\n",
    "click_Tree # it shows the default parameters"
   ]
  },
  {
   "cell_type": "code",
   "execution_count": 77,
   "metadata": {},
   "outputs": [],
   "source": [
    "click_Tree = click_Tree.fit(X3_trainset,y3_trainset)"
   ]
  },
  {
   "cell_type": "code",
   "execution_count": 78,
   "metadata": {},
   "outputs": [],
   "source": [
    "predTree = click_Tree.predict(X3_testset)"
   ]
  },
  {
   "cell_type": "code",
   "execution_count": 79,
   "metadata": {},
   "outputs": [
    {
     "name": "stdout",
     "output_type": "stream",
     "text": [
      "[0 0 0 0 0 0 0 0 0 0 0 0 0 0 0 0 0 0 0 0 0 0 0 0 0 0 0 0 0 0 0 0 0 0 0 0 0\n",
      " 0 0 0 0 0 0 0 0 0 0 0 0 0 0 0 0 0 0 0 0 0 0 0 0 0 0 0 0 0 0 0 0 0 0 0 0 0\n",
      " 0 0 0 0 0 0 0 0 0 0 0 0 0 0 0 0 0 0 0 0 0 0 0 0 0 0]\n",
      "[0 0 0 0 0 0 0 0 0 0 0 0 0 0 0 0 0 0 0 0 0 0 0 0 0 0 0 0 1 0 0 0 0 0 0 0 0\n",
      " 0 0 0 0 0 0 0 0 0 0 0 0 0 0 0 1 0 0 0 0 0 0 0 0 0 0 0 0 0 0 0 0 0 0 0 0 0\n",
      " 0 0 0 0 0 0 0 0 0 0 0 0 0 0 0 0 0 0 0 0 0 0 0 0 0 0]\n"
     ]
    }
   ],
   "source": [
    "print (predTree [0:100])\n",
    "print (y3_testset [0:100])\n"
   ]
  },
  {
   "cell_type": "code",
   "execution_count": 80,
   "metadata": {},
   "outputs": [
    {
     "name": "stdout",
     "output_type": "stream",
     "text": [
      "DecisionTrees's Accuracy:  0.9323031726632877\n"
     ]
    }
   ],
   "source": [
    "from sklearn import metrics\n",
    "print(\"DecisionTrees's Accuracy: \", metrics.accuracy_score(y3_testset, predTree))"
   ]
  },
  {
   "cell_type": "code",
   "execution_count": null,
   "metadata": {},
   "outputs": [],
   "source": []
  },
  {
   "cell_type": "code",
   "execution_count": null,
   "metadata": {},
   "outputs": [],
   "source": []
  }
 ],
 "metadata": {
  "kernelspec": {
   "display_name": "Python 3",
   "language": "python",
   "name": "python3"
  },
  "language_info": {
   "codemirror_mode": {
    "name": "ipython",
    "version": 3
   },
   "file_extension": ".py",
   "mimetype": "text/x-python",
   "name": "python",
   "nbconvert_exporter": "python",
   "pygments_lexer": "ipython3",
   "version": "3.7.4"
  }
 },
 "nbformat": 4,
 "nbformat_minor": 2
}
